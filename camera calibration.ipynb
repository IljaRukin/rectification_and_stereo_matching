{
 "cells": [
  {
   "cell_type": "markdown",
   "metadata": {},
   "source": [
    "## camera calibration"
   ]
  },
  {
   "cell_type": "raw",
   "metadata": {},
   "source": [
    "source:\n",
    "https://docs.opencv.org/2.4/modules/calib3d/doc/camera_calibration_and_3d_reconstruction.html\n",
    "wikipedia: Essential matrix, Fundamental matrix"
   ]
  },
  {
   "cell_type": "markdown",
   "metadata": {},
   "source": [
    "### OpenCV\n",
    "\n",
    "3D World coordinates (xg,yg,zg) -> 2D pixel coordinates (x,y,z=1)\n",
    "\n",
    "\\begin{align}\n",
    "\\begin{pmatrix} x \\\\ y \\\\ z \\end{pmatrix} &= \\underbrace{ \\underbrace{ \\begin{pmatrix} f_x & s & c_x \\\\ 0 & f_y & c_y \\\\ 0 & 0 & 1 \\end{pmatrix} }_{\\text{intrinsic matrix}} \\underbrace{ \\left( \\textbf{R} \\begin{pmatrix} xg \\\\ yg \\\\ zg \\end{pmatrix} + \\textbf{T} \\right) }_{\\text{extrinsic matrix}} }_{\\text{camera matrix}} \\\\\n",
    "&= \\underbrace{ \\underbrace{ \\begin{pmatrix} f_x & s & c_x \\\\ 0 & f_y & c_y \\\\ 0 & 0 & 1 \\end{pmatrix} }_{\\text{ intrinsic matrix}} \\underbrace{ \\begin{pmatrix} r_{11} & r_{12} & r_{13} & t_1 \\\\ r_{21} & r_{22} & r_{23} & t_2 \\\\ r_{31} & r_{32} & r_{33} & t_3 \\end{pmatrix} }_{\\text{extrinsic matrix}} }_{\\text{camera matrix}} \\begin{pmatrix} xg \\\\ yg \\\\ zg \\\\ 1 \\end{pmatrix}\n",
    "\\end{align}\n",
    "\n",
    "undistort\n",
    "remove radial $k_i$, tangential $p_i$ and thin prism $s_i$ distorsions ( where $r^2 = x^2 + y^2$ )\n",
    "\n",
    "\\begin{equation}\n",
    "x = x \\frac{1 + k_1 r^2 + k_2 r^4 + k_3 r^6}{1 + k_4 r^2 + k_5 r^4 + k_6 r_6} + 2 p_1 x y + p_2 ( r^2 + 2x^2 ) + s_1 r^2 + s_2 r^4\\\\\n",
    "y = y \\frac{1 + k_1 r^2 + k_2 r^4 + k_3 r^6}{1 + k_4 r^2 + k_5 r^4 + k_6 r_6} + 2 p_2 x y + p_1 ( r^2 + 2y^2 ) + s_3 r^2 + s_4 r^4\n",
    "\\end{equation}\n",
    "\n",
    "The intrinsic matrix describes a pinhole camera, where $f_x$ and $f_y$ are the focal lengths (distance of pinhole to sensor) and $c_x$ and $c_y$ are the offsets of the zero point on the image sensor from the pinhole. The focal lengths can be different, when the image has been scaled differently in horizontal and vertical direction. Additionaly the parameter $s$ accounts for the shear of the image.<br>\n"
   ]
  },
  {
   "cell_type": "raw",
   "metadata": {},
   "source": [
    "source:\n",
    "https://de.mathworks.com/help/vision/ug/camera-calibration.html"
   ]
  },
  {
   "cell_type": "raw",
   "metadata": {},
   "source": [
    "### Matlab camera model\n",
    "%source: https://de.mathworks.com/help/vision/ug/camera-calibration.html\n",
    "\n",
    "%% extrinsic matrix: 3D World coordinates -> 3D Camera coordinates\n",
    "%rotation & translation\n",
    "[xc,yc,zc].' = [[r11,r12,r13,t1].',[r21,r22,r23,t2].',[r31,r32,r33,t3].'].' * [xg,yg,zg,1].';\n",
    "\n",
    "%% intrinsic matrix: 3D Camera coordinates -> 2D image coordinates\n",
    "%focal lengths fx,fy\n",
    "%optical center cx,cy\n",
    "%horizontal skew s=fy*tan(alpha)\n",
    "[x,y,1].' = [[fx,0,0].',[s,fy,0].',[cx,cy,1].'].' * [xc,yc,zc].';\n",
    "\n",
    "%% undistort 2D (image) pixel coordinates\n",
    "%radial distortions k1,k2,k3\n",
    "%tangential distortions p1,p2\n",
    "%where r^2 = x.^2 + y.^2\n",
    "distortionX = @(k1,k2,k3,p1,p2) x*(1 + k1*r.^2 + k2*r.^4 + k3*r.^6) + 2*p1*x.*y + p2*(r.^2 + 2*x.^2);\n",
    "distortionY = @(k1,k2,k3,p1,p2) y*(1 + k1*r.^2 + k2*r.^4 + k3*r.^6) + 2*p2*x.*y + p1*(r.^2 + 2*y.^2);\n",
    "\n",
    "%undistort using interp2():\n",
    "undistorted = interp2( distroted , distortionX(k1,k2,k3,p1,p2) , distortionY(k1,k2,k3,p1,p2) );"
   ]
  },
  {
   "cell_type": "raw",
   "metadata": {},
   "source": [
    "source:\n",
    "https://albertarmea.com/post/opencv-stereo-camera/"
   ]
  },
  {
   "cell_type": "markdown",
   "metadata": {},
   "source": [
    "### stereo camera calibration\n",
    "\n",
    "When dealing with two (stereo) cameras their relationship is described by the essential and fundamental matricies.\n",
    "The Fundamental matrix $\\textbf{F}$ relates the two images in pixel coordinates, whereas the Essential matrix $\\textbf{E}$ relates the images in camera coordinates.\n",
    "\n",
    "### Essential matrix $\\textbf{E}$\n",
    "The Essential matrix $\\textbf{E}$ relates the pixel coordinates of the two cameras ($\\textbf{n}_a = (x_a,y_a,1) \\quad \\& \\quad \\textbf{n}_b = (x_b,y_b,1)$).\n",
    "\n",
    "\\begin{align}\n",
    "\\textbf{n}_b &= \\textbf{R} \\cdot \\textbf{n}_a + \\textbf{T}\\\\\n",
    "\\textbf{T} \\times \\textbf{n}_b &= \\textbf{T} \\times \\big( \\textbf{R} \\cdot \\textbf{n}_a \\big) \\\\\n",
    "\\textbf{n}_b \\cdot \\big( \\textbf{T} \\times \\textbf{n}_b \\big) &= \\textbf{n}_b \\cdot \\big( \\textbf{T} \\times \\big( \\textbf{R} \\cdot \\textbf{n}_a \\big) \\big)\\\\\n",
    "0 &= \\textbf{n}_b \\cdot \\big( \\textbf{T} \\times \\big( \\textbf{R} \\cdot \\textbf{n}_a \\big) \\big) \\\\\n",
    "0 &= \\textbf{n}_b \\cdot \\big( \\textbf{E} \\cdot \\textbf{n}_a \\big) \n",
    "\\end{align}\n",
    "\n",
    "### Fundamental matrix $\\textbf{F}$\n",
    "The Fundamental matrix $\\textbf{F}$ relates the world coordinates of the two cameras ($\\textbf{m}_a = (xg_a,yg_a,zg_a) \\quad \\& \\quad \\textbf{m}_b = (xg_b,yg_b,zg_b)$).\n",
    "\n",
    "\\begin{align}\n",
    "0 &= \\textbf{m}_b \\cdot \\big( \\textbf{F} \\cdot \\textbf{m}_a \\big)\n",
    "\\end{align}\n",
    "\n",
    "Transforming the above equation with the camera matricies $\\textbf{K}_a$ and $\\textbf{K}_b$, we get the relation between the Essential matrix $\\textbf{E}$ and the Fundamental matrix $\\textbf{F}$.\n",
    "\n",
    "\\begin{equation}\n",
    "\\textbf{F} = (\\textbf{K}_a^{-1})^{T} \\textbf{E} \\textbf{K}_b^{-1} \\\\\n",
    "\\Leftrightarrow \\textbf{E} = (\\textbf{K}_a)^{T} \\textbf{F} \\textbf{K}_b\n",
    "\\end{equation}\n",
    "\n",
    "So $\\textbf{F} \\cdot \\textbf{m}_a$ is parallel to $\\textbf{m}_b$. This way it's possible to compute the epipolar lines $l_b$:\n",
    "\n",
    "\\begin{align}\n",
    "l_b &= \\textbf{F} \\cdot \\textbf{m}_a\\\\\n",
    "\\textbf{m}_m &\\in l_b\n",
    "\\end{align}\n"
   ]
  },
  {
   "cell_type": "code",
   "execution_count": null,
   "metadata": {},
   "outputs": [],
   "source": []
  }
 ],
 "metadata": {
  "kernelspec": {
   "display_name": "Python 3",
   "language": "python",
   "name": "python3"
  },
  "language_info": {
   "codemirror_mode": {
    "name": "ipython",
    "version": 3
   },
   "file_extension": ".py",
   "mimetype": "text/x-python",
   "name": "python",
   "nbconvert_exporter": "python",
   "pygments_lexer": "ipython3",
   "version": "3.8.8"
  }
 },
 "nbformat": 4,
 "nbformat_minor": 4
}
